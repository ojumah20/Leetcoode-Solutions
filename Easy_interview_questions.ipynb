{
 "cells": [
  {
   "cell_type": "markdown",
   "metadata": {},
   "source": [
    "Valid Parentheses"
   ]
  },
  {
   "cell_type": "code",
   "execution_count": null,
   "metadata": {},
   "outputs": [],
   "source": [
    "class Solution(object):\n",
    "    def isValid(self, s):\n",
    "        array = {\"(\":\")\",\"{\":\"}\",\"[\":\"]\"} #create a dictionary of all parentheses\n",
    "        for i in range(0,len(s),2):\n",
    "            m = s[i] #store the first symbol in a variable \n",
    "            if array[m] != s[i+1]:\n",
    "                return False\n",
    "        \n",
    "        return True"
   ]
  }
 ],
 "metadata": {
  "kernelspec": {
   "display_name": "Python 3.9.12 ('base')",
   "language": "python",
   "name": "python3"
  },
  "language_info": {
   "name": "python",
   "version": "3.9.12"
  },
  "orig_nbformat": 4,
  "vscode": {
   "interpreter": {
    "hash": "b9b9d1b48c7f06e4296007e66155f221320d15a5fa2b65f39229e17da1b9f557"
   }
  }
 },
 "nbformat": 4,
 "nbformat_minor": 2
}
